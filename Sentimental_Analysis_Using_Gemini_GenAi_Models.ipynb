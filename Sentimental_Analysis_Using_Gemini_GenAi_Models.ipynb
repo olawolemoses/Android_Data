{
  "nbformat": 4,
  "nbformat_minor": 0,
  "metadata": {
    "colab": {
      "provenance": [],
      "authorship_tag": "ABX9TyOKD01AooJai9mhaywSKHjz",
      "include_colab_link": true
    },
    "kernelspec": {
      "name": "python3",
      "display_name": "Python 3"
    },
    "language_info": {
      "name": "python"
    }
  },
  "cells": [
    {
      "cell_type": "markdown",
      "metadata": {
        "id": "view-in-github",
        "colab_type": "text"
      },
      "source": [
        "<a href=\"https://colab.research.google.com/github/olawolemoses/Android_Data/blob/master/Sentimental_Analysis_Using_Gemini_GenAi_Models.ipynb\" target=\"_parent\"><img src=\"https://colab.research.google.com/assets/colab-badge.svg\" alt=\"Open In Colab\"/></a>"
      ]
    },
    {
      "cell_type": "code",
      "execution_count": 2,
      "metadata": {
        "id": "77HpfRB1gBpo"
      },
      "outputs": [],
      "source": [
        "import argparse\n",
        "import google.generativeai as genai\n",
        "import pandas as pd\n",
        "import time"
      ]
    },
    {
      "cell_type": "code",
      "source": [
        "from google import genai\n",
        "from google.genai.types import GenerateContentConfig\n",
        "from google.colab import userdata\n",
        "from google.api_core.exceptions import GoogleAPIError\n",
        "\n",
        "\n",
        "GOOGLE_API_KEY=userdata.get('GOOGLE_API_KEY')\n",
        "client = genai.Client(api_key=GOOGLE_API_KEY)\n",
        "\n",
        "\n",
        "def create_prompt(text):\n",
        "    \"\"\" Generates prompt for sentiment classification.\n",
        "\n",
        "    Args:\n",
        "        text: classify this text.\n",
        "\n",
        "    Returns:\n",
        "        input for LLM.\n",
        "    \"\"\"\n",
        "    task = 'Is the sentiment positive or negative? restrict your answer to \"Positive\" or \"Negative\".'\n",
        "    answer_format = 'Answer (\"Positive\"/\"Negative\")'\n",
        "    return f'{text}\\n{task}\\n{answer_format}:'\n",
        "\n",
        "\n",
        "def call_llm(prompt):\n",
        "    \"\"\"Query large language model and return answer.\n",
        "\n",
        "    Args:\n",
        "        prompt: input prompt for language model.\n",
        "\n",
        "    Returns:\n",
        "        Answer by language model.\n",
        "    \"\"\"\n",
        "    response_schema = {\"type\": \"STRING\", \"enum\": [\"positive\", \"negative\"]}\n",
        "\n",
        "    for nr_retries in range(1, 4):\n",
        "        try:\n",
        "            response = client.models.generate_content(\n",
        "                model='models/gemini-1.5-flash-8b',\n",
        "                contents=(prompt),\n",
        "                config=GenerateContentConfig(\n",
        "                    response_mime_type=\"text/x.enum\",\n",
        "                    response_schema=response_schema,\n",
        "                ),\n",
        "            )\n",
        "            return response.text\n",
        "        except GoogleAPIError as e:\n",
        "            # Handle specific Google API errors, e.g., rate limiting\n",
        "            print(f\"GoogleAPIError: {e}\")\n",
        "            if e.code == 429:  # Rate limit exceeded\n",
        "                time.sleep(2**nr_retries)  # Exponential backoff\n",
        "            else:\n",
        "                raise  # Re-raise other errors\n",
        "        except Exception as e:\n",
        "            print(f\"An unexpected error occurred: {e}\")\n",
        "            time.sleep(nr_retries * 2)  # Basic retry for other errors\n",
        "    raise Exception('Cannot query GenAi model after multiple retries!')\n",
        "\n",
        "\n",
        "\n",
        "def classify(text):\n",
        "    \"\"\" Classify input text.\n",
        "\n",
        "    Args:\n",
        "        text: assign this text to a class label.\n",
        "\n",
        "    Returns:\n",
        "        name of class.\n",
        "    \"\"\"\n",
        "    prompt = create_prompt(text)\n",
        "    print(prompt)\n",
        "    label = call_llm(prompt)\n",
        "    print(label)\n",
        "    return label"
      ],
      "metadata": {
        "id": "31PqyOfDgfRm"
      },
      "execution_count": 24,
      "outputs": []
    },
    {
      "cell_type": "code",
      "source": [
        "file_path = 'reviews.csv'\n",
        "\n",
        "df = pd.read_csv(file_path)\n",
        "\n",
        "df['class'] = df['text'].apply(classify)\n",
        "statistics = df['class'].value_counts()\n",
        "print(statistics)\n",
        "\n",
        "df.to_csv('result.csv')"
      ],
      "metadata": {
        "colab": {
          "base_uri": "https://localhost:8080/"
        },
        "id": "Rj0vDfvKhjgU",
        "outputId": "be061257-1a61-4905-f572-508fa8edf308"
      },
      "execution_count": 25,
      "outputs": [
        {
          "output_type": "stream",
          "name": "stdout",
          "text": [
            "My daughter liked it but I was aghast, that a character in this movie smokes. As if it isn't awful enough to see \"product placement\" actors like Bruce Willis who smoke in their movies - at least children movies should be more considerate! I wonder: was that intentional? Did big tobacco \"sponsor\" the film? What does it take to ban smoking from films? At least films intended for children and adolescents. My daughter liked it but I was aghast, that a character in this movie smokes. As if it isn't awful enough to see \"product placement\" actors like Bruce Willis who smoke in their movies - at least children movies should be more considerate! I wonder: was that intentional? Did big tobacco \"sponsor\" the film? What does it take to ban smoking from films? At least films intended for children and adolescents.\n",
            "Is the sentiment positive or negative? restrict your answer to \"Positive\" or \"Negative\".\n",
            "Answer (\"Positive\"/\"Negative\"):\n",
            "negative\n",
            "I... No words. No words can describe this. I will try for the sake of those few brave people who stick knives into their toasters... The characters in this repulsive pile of raw sewage are as useless as a small piece of space rock that flies into the sun on any day of the week. Though heart attacks have not been experienced while watching them act like fools on the cheaply built sets, I have no doubt that it will happen eventually. If you do decide to watch it, laugh when the laugh-track tells you to, as this will drown out the repetitive noise that will eventually put you in a coma if you listen to it for too long. <br /><br />The show receives a one star rating because the IMDb inexplicably has not adopted the use of negative numbers.\n",
            "Is the sentiment positive or negative? restrict your answer to \"Positive\" or \"Negative\".\n",
            "Answer (\"Positive\"/\"Negative\"):\n",
            "negative\n",
            "this film is basically a poor take on the old urban legend of the babysitter who gets crank calls telling her to check the children, she calls the police who trace the calls and find there coming from inside the house. when a killer calls has a story so simplistic a little kid could have written it. not much suspense, it becomes clear who the killer is halfway through the film. whats up with that? the film is oh so typical slasher fare with a plot about as original as a Beatles concert. even by low budget slasher standards its cheesy. don't waste your time with this. nuff said\n",
            "Is the sentiment positive or negative? restrict your answer to \"Positive\" or \"Negative\".\n",
            "Answer (\"Positive\"/\"Negative\"):\n",
            "negative\n",
            "This is a terrible movie, and I'm not even sure why it's so terrible. It's ugly, for one, with that trendy 1970s visual style that maybe seemed like a good idea at the time but which now enables one to instantly recognize a film from that time period as being a 70s product. The film retains the story and songs that made the stage version of the musical such a hit, but the songs sound lifeless on screen. But mostly, the movie sucks because of the wan performance of Lucille Ball, who you'd think would be able to make something of this larger-than-life character if anyone could. She sleepwalks through the movie like a terrified actress choking on her opening night, and the film sinks with her. Even Bea Arthur, who I bet was hilarious in the best friend role onstage, can't breathe any life into this stinker.<br /><br />Avoid at all costs.<br /><br />Grade: D\n",
            "Is the sentiment positive or negative? restrict your answer to \"Positive\" or \"Negative\".\n",
            "Answer (\"Positive\"/\"Negative\"):\n",
            "negative\n",
            "First of all this movie is a piece of reality very well realized artistically. Some kind of combination between \"American Beauty\" and \"As Good as it gets\". And of course something specifically to all Russian movies ( of course the valuable one, no dirty propaganda !) : the problem of loneliness of man ... A movie about common people, their problems, lack of satisfactions - especially for young ones, fear when touch the real and too dirty face of the society ... and about the fake \"solutions\" : alcohol and violence ... and probably the only real solution : true love ... Of course it's very well \"located\" in the space and time of \"Russian perestroika\" but it's valid for all the society ( except a perfect one, but don't worry - not possible to find this on our Earth !). For the last time - definitely recommended ...\n",
            "Is the sentiment positive or negative? restrict your answer to \"Positive\" or \"Negative\".\n",
            "Answer (\"Positive\"/\"Negative\"):\n",
            "positive\n",
            "As a young lass, beautiful Joan Woodbury (as Rita Adams) was orphaned, after her \"stool pigeon\" father was shot to death. As a young woman, Ms. Woodbury finds herself struggling to keep a job, as her murdered father's ex-convict status makes Woodbury a bad business risk. Woodbury rooms with understanding songstress Linda Ware (as Donna Andrews), who advises Woodbury to get in touch with old orphanage friends John Archer (as Bob Elliott) and Jack La Rue (as Mickey Roman). But, none of her friends can help when Woodbury is the victim of a scam, which lands her in prison. Upon release, Woodbury decides to give the male mobsters a run for their money <br /><br />Re-titled \"Gangs, Inc.\", this is an obviously weak, cheap mobster melodrama. Still, it's a lot of fun to watch Woodbury work wonders with inferior material. She plays the innocent growing more sophisticated \"Rita\" quite convincingly; and, she tosses in a great bit as a blonde hooker. Woodbury must be added to the list of unfortunately underutilized Hollywood actresses of the past. \"Paper Bullets\" also features an early Alan Ladd (as Jimmy Kelly aka Bill Dugan). Ms. Ware, who sang the hit \"An Apple for the Teacher\" with Bing Crosby, sings a couple of fair '40s numbers nicely. But, mainly, it's Woodbury's show.<br /><br />**** Paper Bullets (1941) Phil Rosen ~ Joan Woodbury, Linda Ware, Alan Ladd\n",
            "Is the sentiment positive or negative? restrict your answer to \"Positive\" or \"Negative\".\n",
            "Answer (\"Positive\"/\"Negative\"):\n",
            "positive\n",
            "Low budget, but still creepy enough to hold your interest in another take off on the familiar Frankenstein story. This movie is also known as LADY FRANKENSTEIN. The alluring Tania Frankenstein(Sara Bay)fresh from medical school arrives at her father's estate to find that he is still up to his old tricks. Baron Frankenstein(Joseph Cotten)is murdered by his own creation and now his daughter decides to carry on the family tradition by creating herself a lover. This is closer to being an eerie melodrama than horror flick. Supporting cast features Mickey Hargitay, Paul Whiteman, Paul Muller and Herbert Fux. A rainy night could amplify the atmosphere. Still a fun watch.\n",
            "Is the sentiment positive or negative? restrict your answer to \"Positive\" or \"Negative\".\n",
            "Answer (\"Positive\"/\"Negative\"):\n",
            "positive\n",
            "Just to save you the $3, or whatever it costs to rent movies at your local video store, and the anguishing hour-and-however-long-this-movie-is here's a simple plan. Go over to a friend's house, talk them into renting The Pest for you, watch the first 30 seconds or so and then make up some excuse to leave. The opening sequence is really funny, definitely worth watching. Unfortunately, the other 99% of the movie is horrible. Without the shower scene at the beginning this is one of the worst movies of all time.\n",
            "Is the sentiment positive or negative? restrict your answer to \"Positive\" or \"Negative\".\n",
            "Answer (\"Positive\"/\"Negative\"):\n",
            "negative\n",
            "If you want to see a film starring Stan laurel from the Laurel & Hardy comedies, this is not the film for you. Stan would not begin to find the character and rhythms of those films for another two years. If, however, you want a good travesty of the Rudolph Valentino BLOOD AND SAND, which had been made the previous year, this is the movie for you. All the stops are pulled out, both in physical comedy and on the title cards and if the movie is not held together by character, the plot of Valentino's movie is used -- well sort of.\n",
            "Is the sentiment positive or negative? restrict your answer to \"Positive\" or \"Negative\".\n",
            "Answer (\"Positive\"/\"Negative\"):\n",
            "negative\n",
            "I am willing to tolerate almost anything in a Sci-Fi movie, but this was almost intolerable. While a few of the special effects are very cool (landscapes) this is no 'battlespace' rather a disjointed weird mother/daughter relationship with sci-fi concepts thrown in. The acting (wooden), framing and shooting (kindergarten film school) and with \"hand-to-hand\" combat scenes funnier than any Hong Kong chopsocky movie, this film bores. The plot line is convoluted and the devices used to move the plot along (narrator), unexplained scene jumps and plenty of deus ex machina reinforce the idea that writer cum director is not a good idea. Save your love of Sci-Fi for something else instead of losing a bit of it here.\n",
            "Is the sentiment positive or negative? restrict your answer to \"Positive\" or \"Negative\".\n",
            "Answer (\"Positive\"/\"Negative\"):\n",
            "negative\n",
            "class\n",
            "negative    7\n",
            "positive    3\n",
            "Name: count, dtype: int64\n"
          ]
        }
      ]
    },
    {
      "cell_type": "code",
      "source": [],
      "metadata": {
        "id": "guyoS2VwicYC"
      },
      "execution_count": null,
      "outputs": []
    }
  ]
}